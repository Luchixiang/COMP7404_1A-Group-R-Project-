{
 "cells": [
  {
   "cell_type": "code",
   "execution_count": 2,
   "id": "edb3f732",
   "metadata": {},
   "outputs": [
    {
     "name": "stderr",
     "output_type": "stream",
     "text": [
      "TensorFlow: v2.3.0-6-g23ad988fcd\n",
      "DeepSpeech: v0.9.3-0-gf2e9c858\n"
     ]
    },
    {
     "name": "stdout",
     "output_type": "stream",
     "text": [
      "16000\n",
      "how can i pass the exam\n"
     ]
    }
   ],
   "source": [
    "from deepspeech import Model, version\n",
    "import wave\n",
    "import numpy as np\n",
    "audio_file = 'tmp.wav'\n",
    "ds = Model('deepspeech-0.9.3-models.pbmm')\n",
    "ds.enableExternalScorer('deepspeech-0.9.3-models.scorer')\n",
    "file = 'tmp.wav'\n",
    "fin = wave.open(audio_file, 'rb')\n",
    "fs_orig = fin.getframerate()\n",
    "desired_sample_rate = ds.sampleRate()\n",
    "print(desired_sample_rate)\n",
    "# if fs_orig != desired_sample_rate:\n",
    "#         print(\"Warning: original sample rate ({}) is different than {}hz. Resampling might produce erratic speech recognition\".format(fs_orig, desired_sample_rate), file=sys.stderr)\n",
    "#         audio = convert_samplerate(audio_file, desired_sample_rate)\n",
    "#     else:\n",
    "#         audio = np.frombuffer(fin.readframes(fin.getnframes()), np.int16)\n",
    "audio = np.frombuffer(fin.readframes(fin.getnframes()), np.int16)\n",
    "fin.close()\n",
    "infered_text = ds.stt(audio)\n",
    "print(infered_text)"
   ]
  },
  {
   "cell_type": "code",
   "execution_count": 8,
   "id": "0f12340a",
   "metadata": {},
   "outputs": [
    {
     "name": "stdout",
     "output_type": "stream",
     "text": [
      "Audio content written to file \"output.mp3\"\n"
     ]
    }
   ],
   "source": [
    "from google.api_core.exceptions import AlreadyExists\n",
    "from google.cloud import texttospeech\n",
    "import html\n",
    "import io\n",
    "import os\n",
    "#!export GOOGLE_APPLICATION_CREDENTIALS=\"key.json\"\n",
    "os.environ['GOOGLE_APPLICATION_CREDENTIALS']= 'key.json'\n",
    "client = texttospeech.TextToSpeechClient()\n",
    "def text_to_speech(clinet, text, outfile):\n",
    "    \"\"\"Converts plaintext to SSML and\n",
    "    generates synthetic audio from SSML\n",
    "\n",
    "    ARGS\n",
    "    text: text to synthesize\n",
    "    outfile: filename to use to store synthetic audio\n",
    "\n",
    "    RETURNS\n",
    "    nothing\n",
    "    \"\"\"\n",
    "   # Instantiates a client\n",
    "    \n",
    "\n",
    "    # Set the text input to be synthesized\n",
    "    synthesis_input = texttospeech.SynthesisInput(text=\"Hello, World!\")\n",
    "\n",
    "    # Build the voice request, select the language code (\"en-US\") and the ssml\n",
    "    # voice gender (\"neutral\")\n",
    "    voice = texttospeech.VoiceSelectionParams(\n",
    "        language_code=\"en-US\", ssml_gender=texttospeech.SsmlVoiceGender.NEUTRAL\n",
    "    )\n",
    "\n",
    "    # Select the type of audio file you want returned\n",
    "    audio_config = texttospeech.AudioConfig(\n",
    "        audio_encoding=texttospeech.AudioEncoding.MP3\n",
    "    )\n",
    "\n",
    "    # Perform the text-to-speech request on the text input with the selected\n",
    "    # voice parameters and audio file type\n",
    "    response = client.synthesize_speech(\n",
    "        input=synthesis_input, voice=voice, audio_config=audio_config\n",
    "    )\n",
    "\n",
    "    # The response's audio_content is binary.\n",
    "    with open(\"output.mp3\", \"wb\") as out:\n",
    "        # Write the response to the output file.\n",
    "        out.write(response.audio_content)\n",
    "        print('Audio content written to file \"output.mp3\"')\n",
    "text_to_speech('one to three four', 'out.mp3')"
   ]
  },
  {
   "cell_type": "code",
   "execution_count": null,
   "id": "4543bbc4",
   "metadata": {},
   "outputs": [],
   "source": []
  }
 ],
 "metadata": {
  "kernelspec": {
   "display_name": "Python 3 (ipykernel)",
   "language": "python",
   "name": "python3"
  },
  "language_info": {
   "codemirror_mode": {
    "name": "ipython",
    "version": 3
   },
   "file_extension": ".py",
   "mimetype": "text/x-python",
   "name": "python",
   "nbconvert_exporter": "python",
   "pygments_lexer": "ipython3",
   "version": "3.7.11"
  }
 },
 "nbformat": 4,
 "nbformat_minor": 5
}
